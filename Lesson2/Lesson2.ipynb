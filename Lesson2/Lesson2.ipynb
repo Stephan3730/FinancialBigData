{
 "cells": [
  {
   "metadata": {},
   "cell_type": "markdown",
   "source": "# Lesson 2: Stylized facts",
   "id": "5f75f9d4767027bb"
  },
  {
   "cell_type": "code",
   "id": "initial_id",
   "metadata": {
    "collapsed": true,
    "ExecuteTime": {
     "end_time": "2024-09-18T13:35:37.535466Z",
     "start_time": "2024-09-18T13:35:37.520459Z"
    }
   },
   "source": [
    "import numpy as np\n",
    "import polars as pl\n",
    "import matplotlib.pyplot as plt\n",
    "import yfinance as yf\n",
    "from bib import *"
   ],
   "outputs": [
    {
     "ename": "ModuleNotFoundError",
     "evalue": "No module named 'module_1'",
     "output_type": "error",
     "traceback": [
      "\u001B[0;31m---------------------------------------------------------------------------\u001B[0m",
      "\u001B[0;31mModuleNotFoundError\u001B[0m                       Traceback (most recent call last)",
      "Cell \u001B[0;32mIn[9], line 5\u001B[0m\n\u001B[1;32m      3\u001B[0m \u001B[38;5;28;01mimport\u001B[39;00m \u001B[38;5;21;01mmatplotlib\u001B[39;00m\u001B[38;5;21;01m.\u001B[39;00m\u001B[38;5;21;01mpyplot\u001B[39;00m \u001B[38;5;28;01mas\u001B[39;00m \u001B[38;5;21;01mplt\u001B[39;00m\n\u001B[1;32m      4\u001B[0m \u001B[38;5;28;01mimport\u001B[39;00m \u001B[38;5;21;01myfinance\u001B[39;00m \u001B[38;5;28;01mas\u001B[39;00m \u001B[38;5;21;01myf\u001B[39;00m\n\u001B[0;32m----> 5\u001B[0m \u001B[38;5;28;01mfrom\u001B[39;00m \u001B[38;5;21;01mbib\u001B[39;00m \u001B[38;5;28;01mimport\u001B[39;00m \u001B[38;5;241m*\u001B[39m\n",
      "File \u001B[0;32m~/dev/EPFL/FinancialBigData/bib/__init__.py:1\u001B[0m\n\u001B[0;32m----> 1\u001B[0m \u001B[38;5;28;01mfrom\u001B[39;00m \u001B[38;5;21;01mmodule_1\u001B[39;00m \u001B[38;5;28;01mimport\u001B[39;00m \u001B[38;5;241m*\u001B[39m\n",
      "\u001B[0;31mModuleNotFoundError\u001B[0m: No module named 'module_1'"
     ]
    }
   ],
   "execution_count": 9
  },
  {
   "metadata": {},
   "cell_type": "markdown",
   "source": "## 1.",
   "id": "e578511c19f6e087"
  },
  {
   "metadata": {
    "ExecuteTime": {
     "end_time": "2024-09-18T13:34:47.425060Z",
     "start_time": "2024-09-18T13:34:47.414547Z"
    }
   },
   "cell_type": "code",
   "source": "df_ford = retrieve_yfinance_data(\"F\", None, None, \"max\")",
   "id": "16e5765202c4b20b",
   "outputs": [
    {
     "ename": "NameError",
     "evalue": "name 'retrieve_yfinance_data' is not defined",
     "output_type": "error",
     "traceback": [
      "\u001B[0;31m---------------------------------------------------------------------------\u001B[0m",
      "\u001B[0;31mNameError\u001B[0m                                 Traceback (most recent call last)",
      "Cell \u001B[0;32mIn[6], line 1\u001B[0m\n\u001B[0;32m----> 1\u001B[0m df_ford \u001B[38;5;241m=\u001B[39m retrieve_yfinance_data(\u001B[38;5;124m\"\u001B[39m\u001B[38;5;124mF\u001B[39m\u001B[38;5;124m\"\u001B[39m, \u001B[38;5;28;01mNone\u001B[39;00m, \u001B[38;5;28;01mNone\u001B[39;00m, \u001B[38;5;124m\"\u001B[39m\u001B[38;5;124mmax\u001B[39m\u001B[38;5;124m\"\u001B[39m)\n",
      "\u001B[0;31mNameError\u001B[0m: name 'retrieve_yfinance_data' is not defined"
     ]
    }
   ],
   "execution_count": 6
  },
  {
   "metadata": {
    "ExecuteTime": {
     "end_time": "2024-09-18T13:05:23.323350Z",
     "start_time": "2024-09-18T13:05:23.318871Z"
    }
   },
   "cell_type": "code",
   "source": "print(df_ford)",
   "id": "411181111c41304a",
   "outputs": [
    {
     "name": "stdout",
     "output_type": "stream",
     "text": [
      "                 Open       High        Low      Close  Adj Close    Volume\n",
      "Date                                                                       \n",
      "1972-06-01   0.000000   2.173495   2.149165   2.153220   0.229151   1091238\n",
      "1972-06-02   2.153220   2.173495   2.141055   2.149165   0.228719   1174468\n",
      "1972-06-05   2.149165   2.169440   2.141055   2.149165   0.228719   5209582\n",
      "1972-06-06   2.149165   2.157275   2.116725   2.124835   0.226130   1424158\n",
      "1972-06-07   2.124835   2.137000   2.112670   2.112670   0.224835    675088\n",
      "...               ...        ...        ...        ...        ...       ...\n",
      "2024-09-11  10.310000  10.460000  10.130000  10.450000  10.450000  55840200\n",
      "2024-09-12  10.400000  10.650000  10.310000  10.620000  10.620000  43807300\n",
      "2024-09-13  10.680000  10.790000  10.630000  10.690000  10.690000  35184800\n",
      "2024-09-16  10.740000  10.920000  10.710000  10.800000  10.800000  34802400\n",
      "2024-09-17  10.890000  11.140000  10.820000  10.900000  10.900000  52019600\n",
      "\n",
      "[13186 rows x 6 columns]\n"
     ]
    }
   ],
   "execution_count": 22
  },
  {
   "metadata": {
    "ExecuteTime": {
     "end_time": "2024-09-18T13:30:14.528724Z",
     "start_time": "2024-09-18T13:30:14.519715Z"
    }
   },
   "cell_type": "code",
   "source": [
    "lreturns_ford = compute_log_returns(df_ford)\n",
    "plot_ACF(lreturns_ford)"
   ],
   "id": "4ab8ee6da794243f",
   "outputs": [
    {
     "ename": "NameError",
     "evalue": "name 'compute_log_returns' is not defined",
     "output_type": "error",
     "traceback": [
      "\u001B[0;31m---------------------------------------------------------------------------\u001B[0m",
      "\u001B[0;31mNameError\u001B[0m                                 Traceback (most recent call last)",
      "Cell \u001B[0;32mIn[43], line 1\u001B[0m\n\u001B[0;32m----> 1\u001B[0m lreturns_ford \u001B[38;5;241m=\u001B[39m compute_log_returns(df_ford)\n\u001B[1;32m      2\u001B[0m plot_ACF(lreturns_ford)\n",
      "\u001B[0;31mNameError\u001B[0m: name 'compute_log_returns' is not defined"
     ]
    }
   ],
   "execution_count": 43
  }
 ],
 "metadata": {
  "kernelspec": {
   "display_name": "Python 3",
   "language": "python",
   "name": "python3"
  },
  "language_info": {
   "codemirror_mode": {
    "name": "ipython",
    "version": 2
   },
   "file_extension": ".py",
   "mimetype": "text/x-python",
   "name": "python",
   "nbconvert_exporter": "python",
   "pygments_lexer": "ipython2",
   "version": "2.7.6"
  }
 },
 "nbformat": 4,
 "nbformat_minor": 5
}
